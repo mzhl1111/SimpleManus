{
 "cells": [
  {
   "cell_type": "markdown",
   "metadata": {},
   "source": [
    "# Tavily Search Example with Answer\n",
    "\n",
    "This notebook demonstrates how to use TavilySearchResults with the `include_answer` parameter to get both search results and answer in a single API call, with tool call invocation.\n",
    "\n",
    "Reference: https://python.langchain.com/api_reference/_modules/langchain_community/tools/tavily_search/tool.html#TavilySearchResults"
   ]
  },
  {
   "cell_type": "markdown",
   "metadata": {},
   "source": [
    "## Step 1: Import Required Libraries"
   ]
  },
  {
   "cell_type": "code",
   "execution_count": 1,
   "metadata": {},
   "outputs": [],
   "source": [
    "import os\n",
    "from dotenv import load_dotenv\n",
    "from langchain_community.tools import TavilySearchResults"
   ]
  },
  {
   "cell_type": "markdown",
   "metadata": {},
   "source": [
    "## Step 2: Load Environment Variables"
   ]
  },
  {
   "cell_type": "code",
   "execution_count": 2,
   "metadata": {},
   "outputs": [
    {
     "name": "stdout",
     "output_type": "stream",
     "text": [
      "Tavily API key loaded successfully!\n"
     ]
    }
   ],
   "source": [
    "# Load API key from .env file\n",
    "load_dotenv()\n",
    "\n",
    "# Verify API key is loaded\n",
    "if os.getenv(\"TAVILY_API_KEY\") is None:\n",
    "    print(\"Tavily API key is not set in .env file\")\n",
    "    exit(1)\n",
    "else:\n",
    "    print(\"Tavily API key loaded successfully!\")"
   ]
  },
  {
   "cell_type": "markdown",
   "metadata": {},
   "source": [
    "## Step 3: Create Search Tool"
   ]
  },
  {
   "cell_type": "code",
   "execution_count": 3,
   "metadata": {},
   "outputs": [
    {
     "name": "stdout",
     "output_type": "stream",
     "text": [
      "Search tool created successfully!\n"
     ]
    }
   ],
   "source": [
    "# Create the search tool with include_answer=True\n",
    "search_tool = TavilySearchResults(\n",
    "    max_results=1,\n",
    "    include_answer=True,  # This will include an answer in the response\n",
    "    # include_raw_content=True,  # Optional: includes parsed HTML of search results\n",
    "    # include_images=True,  # Optional: includes related images\n",
    ")\n",
    "\n",
    "print(\"Search tool created successfully!\")"
   ]
  },
  {
   "cell_type": "markdown",
   "metadata": {},
   "source": [
    "## Step 4: Execute Search Query"
   ]
  },
  {
   "cell_type": "code",
   "execution_count": 4,
   "metadata": {},
   "outputs": [
    {
     "name": "stdout",
     "output_type": "stream",
     "text": [
      "Executing search query...\n",
      "Tool response type: <class 'langchain_core.messages.tool.ToolMessage'>\n",
      "Tool response attributes: ['__abstractmethods__', '__add__', '__annotations__', '__class__', '__class_getitem__', '__class_vars__', '__copy__', '__deepcopy__', '__delattr__', '__dict__']\n"
     ]
    }
   ],
   "source": [
    "# Define the search query\n",
    "query = \"When will be the next canadian federal election?\"\n",
    "\n",
    "# Execute the search using tool call invocation\n",
    "print(\"Executing search query...\")\n",
    "tool_response = search_tool.invoke({\n",
    "    \"args\": {'query': query},\n",
    "    \"type\": \"tool_call\",\n",
    "    \"id\": \"search_1\",\n",
    "    \"name\": \"tavily\"\n",
    "})\n",
    "\n",
    "print(f\"Tool response type: {type(tool_response)}\")\n",
    "print(f\"Tool response attributes: {dir(tool_response)[:10]}\")"
   ]
  },
  {
   "cell_type": "markdown",
   "metadata": {},
   "source": [
    "## Step 5: Process and Display Results"
   ]
  },
  {
   "cell_type": "code",
   "execution_count": 5,
   "metadata": {},
   "outputs": [
    {
     "name": "stdout",
     "output_type": "stream",
     "text": [
      "ARTIFACT CONTENTS:\n",
      "Artifact type: <class 'dict'>\n",
      "Artifact keys: dict_keys(['query', 'follow_up_questions', 'answer', 'images', 'results', 'response_time'])\n",
      "\n",
      "Answer from artifact:\n",
      "The next Canadian federal election will be held on April 28, 2025. This will be the first election using a new electoral map based on the 2021 census. The writs of election were issued on March 23, 2025.\n",
      "\n",
      "Search Results from artifact:\n",
      "1. 2025 Canadian federal election - Wikipedia\n",
      "   URL: https://en.wikipedia.org/wiki/2025_Canadian_federal_election\n",
      "   Content: The 2025 Canadian federal election will be held on April 28, 2025, to elect members of the House of Commons to the 45th Canadian Parliament. The writs...\n",
      "\n",
      "\n",
      "Response time: 1.68 seconds\n"
     ]
    }
   ],
   "source": [
    "# Access the artifact which contains all the detailed information\n",
    "if hasattr(tool_response, 'artifact'):\n",
    "    artifact = tool_response.artifact\n",
    "    \n",
    "    print(\"ARTIFACT CONTENTS:\")\n",
    "    print(f\"Artifact type: {type(artifact)}\")\n",
    "    print(f\"Artifact keys: {artifact.keys() if hasattr(artifact, 'keys') else 'Not a dict'}\")\n",
    "    \n",
    "    # Print the answer from the artifact\n",
    "    print(\"\\nAnswer from artifact:\")\n",
    "    print(artifact.get(\"answer\", \"No answer found\"))\n",
    "    \n",
    "    # Print the search results from the artifact\n",
    "    print(\"\\nSearch Results from artifact:\")\n",
    "    results = artifact.get(\"results\", [])\n",
    "    for i, result in enumerate(results, 1):\n",
    "        print(f\"{i}. {result.get('title', 'No title')}\")\n",
    "        print(f\"   URL: {result.get('url', 'No URL')}\")\n",
    "        print(f\"   Content: {result.get('content', 'No content')[:150]}...\\n\")\n",
    "    \n",
    "    # Print image URLs if available\n",
    "    images = artifact.get(\"images\", [])\n",
    "    if images:\n",
    "        print(\"\\nImage URLs from artifact:\")\n",
    "        for i, image_url in enumerate(images, 1):\n",
    "            print(f\"{i}. {image_url}\")\n",
    "            \n",
    "    # Print follow-up questions if available\n",
    "    follow_up = artifact.get(\"follow_up_questions\", None)\n",
    "    if follow_up:\n",
    "        print(\"\\nFollow-up questions:\")\n",
    "        for i, question in enumerate(follow_up, 1):\n",
    "            print(f\"{i}. {question}\")\n",
    "            \n",
    "    # Print response time\n",
    "    print(f\"\\nResponse time: {artifact.get('response_time', 'N/A')} seconds\")\n",
    "else:\n",
    "    print(\"No artifact found in the tool response\")"
   ]
  }
 ],
 "metadata": {
  "kernelspec": {
   "display_name": "Python 3",
   "language": "python",
   "name": "python3"
  },
  "language_info": {
   "codemirror_mode": {
    "name": "ipython",
    "version": 3
   },
   "file_extension": ".py",
   "mimetype": "text/x-python",
   "name": "python",
   "nbconvert_exporter": "python",
   "pygments_lexer": "ipython3",
   "version": "3.11.11"
  }
 },
 "nbformat": 4,
 "nbformat_minor": 4
}
